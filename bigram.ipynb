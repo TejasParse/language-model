{
 "cells": [
  {
   "cell_type": "code",
   "execution_count": 2,
   "id": "9a64c4e2-7164-4f11-a726-e54c14d0713b",
   "metadata": {},
   "outputs": [
    {
     "name": "stdout",
     "output_type": "stream",
     "text": [
      "cuda\n"
     ]
    }
   ],
   "source": [
    "import torch\n",
    "\n",
    "device = 'cuda' if torch.cuda.is_available() else \"cpu\"\n",
    "print(device)\n",
    "\n",
    "block_size = 8\n",
    "batch_size = 4"
   ]
  },
  {
   "cell_type": "code",
   "execution_count": 3,
   "id": "ae5401c1-c0ee-4af7-b663-012fface6583",
   "metadata": {},
   "outputs": [
    {
     "name": "stdout",
     "output_type": "stream",
     "text": [
      "Python 3.9.18\n"
     ]
    }
   ],
   "source": [
    "!python --version"
   ]
  },
  {
   "cell_type": "code",
   "execution_count": 4,
   "id": "5f0adc41-8b98-4283-bc38-5e15470d7948",
   "metadata": {},
   "outputs": [
    {
     "name": "stdout",
     "output_type": "stream",
     "text": [
      "['\\n', ' ', '!', '\"', '&', \"'\", '(', ')', ',', '-', '.', '0', '1', '2', '3', '4', '5', '6', '7', '8', '9', ':', ';', '?', 'A', 'B', 'C', 'D', 'E', 'F', 'G', 'H', 'I', 'J', 'K', 'L', 'M', 'N', 'O', 'P', 'Q', 'R', 'S', 'T', 'U', 'V', 'W', 'Y', 'Z', 'a', 'b', 'c', 'd', 'e', 'f', 'g', 'h', 'i', 'j', 'k', 'l', 'm', 'n', 'o', 'p', 'q', 'r', 's', 't', 'u', 'v', 'w', 'x', 'y', 'z', '\\ufeff']\n",
      "76\n"
     ]
    }
   ],
   "source": [
    "with open(\"wizard_of_oz.txt\", \"r\", encoding=\"utf-8\") as f:\n",
    "    text = f.read()\n",
    "\n",
    "chars = sorted(set(text))\n",
    "\n",
    "print(chars)\n",
    "print(len(chars))"
   ]
  },
  {
   "cell_type": "code",
   "execution_count": 5,
   "id": "e092d808-ff84-4135-90b0-e922961426dc",
   "metadata": {},
   "outputs": [],
   "source": [
    "string_to_int = { ch:i for i,ch in enumerate(chars) }\n",
    "int_to_string = { i:ch for i,ch in enumerate(chars) }\n",
    "\n",
    "encode = lambda s: [ string_to_int[c] for c in s ]\n",
    "decode = lambda l: ''.join([int_to_string[i] for i in l])"
   ]
  },
  {
   "cell_type": "code",
   "execution_count": 6,
   "id": "5ca467c8-fd0d-40f5-a59a-0106ef750c62",
   "metadata": {},
   "outputs": [
    {
     "name": "stdout",
     "output_type": "stream",
     "text": [
      "[56, 53, 60, 60, 63]\n"
     ]
    }
   ],
   "source": [
    "print(encode(\"hello\"))"
   ]
  },
  {
   "cell_type": "code",
   "execution_count": 7,
   "id": "885678a6-a3bf-4df4-9e6a-fd7bb4645c0c",
   "metadata": {},
   "outputs": [
    {
     "name": "stdout",
     "output_type": "stream",
     "text": [
      "[56, 53, 60, 60, 63]\n"
     ]
    }
   ],
   "source": [
    "encoded_hello = encode(\"hello\")\n",
    "print(encoded_hello)"
   ]
  },
  {
   "cell_type": "code",
   "execution_count": 8,
   "id": "99e71699-8995-4bc4-b057-d864110c03bc",
   "metadata": {},
   "outputs": [
    {
     "name": "stdout",
     "output_type": "stream",
     "text": [
      "hello\n"
     ]
    }
   ],
   "source": [
    "decoded_hello = decode(encoded_hello)\n",
    "print(decoded_hello)"
   ]
  },
  {
   "cell_type": "code",
   "execution_count": 9,
   "id": "2396741d-9ded-4b84-b2d8-d75ef922d0c7",
   "metadata": {},
   "outputs": [],
   "source": [
    "data = torch.tensor(encode(text), dtype=torch.long)"
   ]
  },
  {
   "cell_type": "code",
   "execution_count": 10,
   "id": "09aa1356-2bfc-47dd-bb04-09e8e54e434a",
   "metadata": {},
   "outputs": [],
   "source": [
    "n = int(0.8*len(data))\n",
    "train_data = data[:n]\n",
    "val_data = data[n:]"
   ]
  },
  {
   "cell_type": "code",
   "execution_count": 11,
   "id": "40609167-557e-4ba1-9420-140054dce10c",
   "metadata": {},
   "outputs": [
    {
     "name": "stdout",
     "output_type": "stream",
     "text": [
      "When input is tensor([75])  Target is tensor(27)\n",
      "When input is tensor([75, 27])  Target is tensor(63)\n",
      "When input is tensor([75, 27, 63])  Target is tensor(66)\n",
      "When input is tensor([75, 27, 63, 66])  Target is tensor(63)\n",
      "When input is tensor([75, 27, 63, 66, 63])  Target is tensor(68)\n",
      "When input is tensor([75, 27, 63, 66, 63, 68])  Target is tensor(56)\n",
      "When input is tensor([75, 27, 63, 66, 63, 68, 56])  Target is tensor(73)\n",
      "When input is tensor([75, 27, 63, 66, 63, 68, 56, 73])  Target is tensor(1)\n"
     ]
    }
   ],
   "source": [
    "block_size = 8\n",
    "\n",
    "x = train_data[:block_size]\n",
    "y = train_data[1:block_size+1]\n",
    "\n",
    "for t in range(block_size):\n",
    "    context = x[: t+1]\n",
    "    target = y[t]\n",
    "    print(\"When input is\", context,\" Target is\", target)"
   ]
  },
  {
   "cell_type": "code",
   "execution_count": 12,
   "id": "985bcb84-1cd5-4d2a-aa73-187a35bb925a",
   "metadata": {},
   "outputs": [
    {
     "data": {
      "text/plain": [
       "tensor([[-62,   5],\n",
       "        [ 37, -42],\n",
       "        [-93,  -7]])"
      ]
     },
     "execution_count": 12,
     "metadata": {},
     "output_type": "execute_result"
    }
   ],
   "source": [
    "randint = torch.randint(-100, 100, (3,2))\n",
    "\n",
    "randint"
   ]
  },
  {
   "cell_type": "code",
   "execution_count": 13,
   "id": "0455d7b4-5f44-4b62-8449-29b2e3acac25",
   "metadata": {},
   "outputs": [
    {
     "data": {
      "text/plain": [
       "torch.Size([1, 4, 100])"
      ]
     },
     "execution_count": 13,
     "metadata": {},
     "output_type": "execute_result"
    }
   ],
   "source": [
    "import torch.nn.functional as F\n",
    "import torch.nn as nn\n",
    "\n",
    "vocab_size = 1000\n",
    "embedding_size = 100\n",
    "embedding = nn.Embedding(vocab_size, embedding_size)\n",
    "\n",
    "embedded_output = embedding(torch.LongTensor([[1,5,3,2]]))\n",
    "embedded_output.shape"
   ]
  },
  {
   "cell_type": "code",
   "execution_count": 21,
   "id": "3e06466d-3c98-4351-8fa2-4e8dab19295f",
   "metadata": {},
   "outputs": [],
   "source": [
    "class BigramLanguageModel(nn.Module):\n",
    "    def __init__(self, vocab_size):\n",
    "        super().__init__()\n",
    "        self.token_embedding_table = nn.Embedding(vocab_size, vocab_size)\n",
    "        \n",
    "\n",
    "    def forward(self, index, targets=None):\n",
    "        logits = self.token_embedding_table(index)\n",
    "        # print(logits.shape)\n",
    "\n",
    "        if(targets is None):\n",
    "            loss = None\n",
    "        else:\n",
    "            B, T, C = logits.shape\n",
    "            logits = logits.view(B*T, C)\n",
    "            \n",
    "            targets = targets.view(B*T)\n",
    "\n",
    "            # print(logits.shape, targets.shape)\n",
    "            loss = F.cross_entropy(logits, targets)\n",
    "\n",
    "        return logits, loss\n",
    "\n",
    "    def generate(self, index, max_new_tokens):\n",
    "        for _ in range(max_new_tokens):\n",
    "\n",
    "            # print(index.shape)\n",
    "            logits, loss = self.forward(index)\n",
    "            # print(logits.shape)\n",
    "            # print()\n",
    "            logits = logits[:, -1, :]\n",
    "\n",
    "\n",
    "            probs = F.softmax(logits, dim=-1)\n",
    "\n",
    "            index_next = torch.multinomial(probs, num_samples=1)\n",
    "\n",
    "            index = torch.cat((index, index_next), dim=1)\n",
    "\n",
    "            # print(index.shape)\n",
    "\n",
    "        return index\n",
    "        "
   ]
  },
  {
   "cell_type": "code",
   "execution_count": 22,
   "id": "12a158a2-1c89-495e-a2c7-a90e1ab61260",
   "metadata": {},
   "outputs": [
    {
     "name": "stdout",
     "output_type": "stream",
     "text": [
      "\n",
      "sgs6FwLFw HU;PLA﻿01pnn6nEOaVtLqA0﻿V5K?S\n",
      "Yr\"BvtTSQNs1v0Q'kiMRcOaLUQuz2ZT7lz!K-2,LqSxH)gKEhtkuu&zc(evti6tT?&FwSG(G7Yy4kDl;m\"(boC8v(MDb-:PLOa8U1!?VM&\"yp9kDDjWIdcM8v4.pG4k6Obbb!BIqQWuzc?-6nN)o;Aor﻿VxH!)5iz VLBP7e7Z?(Dm6 Il?S1TyP;-)M3?CU-o5FC&GHK(HKISQQ:7DMjV)-Wp5.noV&EKK,GnRrECG6rqiriOm\"(zkbL﻿QFc;&Gxd!WMx!﻿TbeqDG5E9S8338U;Rx':3oF&YD?AefoT﻿sgU8-6jZLQ7C?DK-Q7G\"sUH\n",
      "M?pNCZlM.nEuvjP' !Vlh!ydfiT8vd'w﻿5t'jTaDvA?oNi5OF1)ZK4kWai'g2VCHu!﻿TZ8PgU;uL9FyaaT467MjEFdWbNhlstNEw!Cqrj7JujT86ISGMDkq(LBotpC?Zn,0GgA'kidA\n"
     ]
    }
   ],
   "source": [
    "yo = BigramLanguageModel(76)\n",
    "yo.to(device)\n",
    "\n",
    "context = torch.zeros((1,1), dtype=torch.long, device=device)\n",
    "generated_chars = decode(yo.generate(context, max_new_tokens=500)[0].tolist())\n",
    "\n",
    "print(generated_chars)\n",
    "\n",
    "# test_input = torch.LongTensor([\n",
    "#     [1, 2,3,4],\n",
    "#     [2,3,4,5]\n",
    "# ])\n",
    "\n",
    "# test_output = torch.LongTensor([\n",
    "#     2\n",
    "# ])\n",
    "\n",
    "# yo(test_input, test_output)"
   ]
  },
  {
   "cell_type": "code",
   "execution_count": 42,
   "id": "fe5c48bc-1ed2-40fd-9d28-177b4db3f66f",
   "metadata": {},
   "outputs": [],
   "source": [
    "lr = 0.01\n",
    "\n",
    "block_size = 40\n",
    "batch_size = 10\n",
    "max_iters = 10000\n",
    "\n",
    "eval_iters = 200\n",
    "\n",
    "model = BigramLanguageModel(76)\n",
    "\n",
    "m = model.to(device)\n",
    "\n",
    "def get_batch(split):\n",
    "    data = train_data if split == 'train' else val_data\n",
    "    ix = torch.randint(len(data) - block_size, (batch_size,))\n",
    "    x = torch.stack([data[i:i+block_size] for i in ix])\n",
    "    y = torch.stack([data[i+1:i+block_size+1] for i in ix])\n",
    "    x, y = x.to(device), y.to(device)\n",
    "    return x, y\n",
    "\n",
    "# get_batch(\"train\")"
   ]
  },
  {
   "cell_type": "code",
   "execution_count": 43,
   "id": "420eb96b",
   "metadata": {},
   "outputs": [],
   "source": [
    "@torch.no_grad()\n",
    "def estimate_loss():\n",
    "    out = {}\n",
    "    model.eval()\n",
    "    for split in ['train', 'val']:\n",
    "        losses = torch.zeros(eval_iters)\n",
    "        for k in range(eval_iters):\n",
    "            X, Y = get_batch(split)\n",
    "            logits, loss = model(X, Y)\n",
    "            losses[k] = loss.item()\n",
    "        out[split] = losses.mean()\n",
    "    model.train()\n",
    "    return out"
   ]
  },
  {
   "cell_type": "code",
   "execution_count": 44,
   "id": "f7a6d1c4",
   "metadata": {},
   "outputs": [
    {
     "name": "stdout",
     "output_type": "stream",
     "text": [
      "Step: 0, loss {'train': tensor(4.7372), 'val': tensor(4.7319)}\n",
      "Step: 200, loss {'train': tensor(3.0239), 'val': tensor(3.0517)}\n",
      "Step: 400, loss {'train': tensor(2.5871), 'val': tensor(2.6199)}\n",
      "Step: 600, loss {'train': tensor(2.4688), 'val': tensor(2.5421)}\n",
      "Step: 800, loss {'train': tensor(2.4490), 'val': tensor(2.5079)}\n",
      "Step: 1000, loss {'train': tensor(2.4391), 'val': tensor(2.4929)}\n",
      "Step: 1200, loss {'train': tensor(2.4223), 'val': tensor(2.4753)}\n",
      "Step: 1400, loss {'train': tensor(2.4182), 'val': tensor(2.4678)}\n",
      "Step: 1600, loss {'train': tensor(2.4191), 'val': tensor(2.4650)}\n",
      "Step: 1800, loss {'train': tensor(2.4091), 'val': tensor(2.4634)}\n",
      "Step: 2000, loss {'train': tensor(2.4194), 'val': tensor(2.4645)}\n",
      "Step: 2200, loss {'train': tensor(2.4176), 'val': tensor(2.4656)}\n",
      "Step: 2400, loss {'train': tensor(2.4129), 'val': tensor(2.4581)}\n",
      "Step: 2600, loss {'train': tensor(2.4054), 'val': tensor(2.4645)}\n",
      "Step: 2800, loss {'train': tensor(2.4128), 'val': tensor(2.4748)}\n",
      "Step: 3000, loss {'train': tensor(2.4019), 'val': tensor(2.4621)}\n",
      "Step: 3200, loss {'train': tensor(2.4013), 'val': tensor(2.4611)}\n",
      "Step: 3400, loss {'train': tensor(2.4058), 'val': tensor(2.4620)}\n",
      "Step: 3600, loss {'train': tensor(2.4061), 'val': tensor(2.4604)}\n",
      "Step: 3800, loss {'train': tensor(2.4090), 'val': tensor(2.4502)}\n",
      "Step: 4000, loss {'train': tensor(2.4041), 'val': tensor(2.4557)}\n",
      "Step: 4200, loss {'train': tensor(2.4075), 'val': tensor(2.4565)}\n",
      "Step: 4400, loss {'train': tensor(2.4025), 'val': tensor(2.4575)}\n",
      "Step: 4600, loss {'train': tensor(2.4037), 'val': tensor(2.4592)}\n",
      "Step: 4800, loss {'train': tensor(2.4071), 'val': tensor(2.4608)}\n",
      "Step: 5000, loss {'train': tensor(2.4051), 'val': tensor(2.4565)}\n",
      "Step: 5200, loss {'train': tensor(2.4084), 'val': tensor(2.4592)}\n",
      "Step: 5400, loss {'train': tensor(2.4044), 'val': tensor(2.4621)}\n",
      "Step: 5600, loss {'train': tensor(2.4023), 'val': tensor(2.4568)}\n",
      "Step: 5800, loss {'train': tensor(2.3998), 'val': tensor(2.4592)}\n",
      "Step: 6000, loss {'train': tensor(2.3996), 'val': tensor(2.4591)}\n",
      "Step: 6200, loss {'train': tensor(2.4037), 'val': tensor(2.4589)}\n",
      "Step: 6400, loss {'train': tensor(2.3993), 'val': tensor(2.4581)}\n",
      "Step: 6600, loss {'train': tensor(2.4023), 'val': tensor(2.4532)}\n",
      "Step: 6800, loss {'train': tensor(2.3992), 'val': tensor(2.4535)}\n",
      "Step: 7000, loss {'train': tensor(2.4021), 'val': tensor(2.4622)}\n",
      "Step: 7200, loss {'train': tensor(2.3968), 'val': tensor(2.4605)}\n",
      "Step: 7400, loss {'train': tensor(2.4006), 'val': tensor(2.4595)}\n",
      "Step: 7600, loss {'train': tensor(2.3991), 'val': tensor(2.4526)}\n",
      "Step: 7800, loss {'train': tensor(2.4011), 'val': tensor(2.4695)}\n",
      "Step: 8000, loss {'train': tensor(2.3997), 'val': tensor(2.4539)}\n",
      "Step: 8200, loss {'train': tensor(2.3961), 'val': tensor(2.4594)}\n",
      "Step: 8400, loss {'train': tensor(2.4042), 'val': tensor(2.4499)}\n",
      "Step: 8600, loss {'train': tensor(2.4049), 'val': tensor(2.4537)}\n",
      "Step: 8800, loss {'train': tensor(2.3996), 'val': tensor(2.4501)}\n",
      "Step: 9000, loss {'train': tensor(2.4023), 'val': tensor(2.4595)}\n",
      "Step: 9200, loss {'train': tensor(2.3999), 'val': tensor(2.4590)}\n",
      "Step: 9400, loss {'train': tensor(2.4003), 'val': tensor(2.4585)}\n",
      "Step: 9600, loss {'train': tensor(2.3974), 'val': tensor(2.4557)}\n",
      "Step: 9800, loss {'train': tensor(2.3970), 'val': tensor(2.4516)}\n",
      "2.399773597717285\n"
     ]
    }
   ],
   "source": [
    "optimizer = torch.optim.AdamW(model.parameters(), lr=lr)\n",
    "\n",
    "for iter in range(max_iters):\n",
    "\n",
    "    if(iter%eval_iters == 0):\n",
    "        losses = estimate_loss()\n",
    "        print(f\"Step: {iter}, loss {losses}\")\n",
    "\n",
    "    xb, yb = get_batch(\"train\")\n",
    "\n",
    "    logits, loss = model.forward(xb, yb)\n",
    "\n",
    "    \n",
    "\n",
    "    optimizer.zero_grad(set_to_none=True)\n",
    "    loss.backward()\n",
    "    optimizer.step()\n",
    "\n",
    "print(loss.item())"
   ]
  },
  {
   "cell_type": "code",
   "execution_count": 46,
   "id": "1d5a19c2",
   "metadata": {},
   "outputs": [
    {
     "name": "stdout",
     "output_type": "stream",
     "text": [
      "\n",
      "an nofa hepliced asitherie w, tomato wngrwengscas, s fthend swe pousokecouske it-ttotuckeare tsckared tan, uill was, cofeaturd urn, cero hathore h und s rodiset Doutry fe, se\n",
      "obunthalo.\n",
      "y\n",
      "emin t  theme mbur.\n",
      "\n",
      "othed.\n",
      "tld\n",
      "gr tle ss; I owig ce erfur Jid ounghounging tsmey ppeefrthe\n",
      "t that to abung amis nd p he, adotch Em\n",
      "heveichathate s wofind, bem th t t ace sengouf s.\n",
      "\n",
      "\n",
      "e acorer, f fournt y beroro s if airedomsaves, iedis:\n",
      "bbe igad g'ly se thago  toredra be tr s the Bu ghesouty alloof be, d me. a\n"
     ]
    }
   ],
   "source": [
    "context = torch.zeros((1,1), dtype=torch.long, device=device)\n",
    "generated_chars = decode(m.generate(context, max_new_tokens=500)[0].tolist())\n",
    "\n",
    "print(generated_chars)"
   ]
  },
  {
   "cell_type": "code",
   "execution_count": null,
   "id": "397d2516",
   "metadata": {},
   "outputs": [],
   "source": []
  },
  {
   "cell_type": "code",
   "execution_count": null,
   "id": "ff8b0ce9",
   "metadata": {},
   "outputs": [],
   "source": []
  }
 ],
 "metadata": {
  "kernelspec": {
   "display_name": "Python 3 (ipykernel)",
   "language": "python",
   "name": "python3"
  },
  "language_info": {
   "codemirror_mode": {
    "name": "ipython",
    "version": 3
   },
   "file_extension": ".py",
   "mimetype": "text/x-python",
   "name": "python",
   "nbconvert_exporter": "python",
   "pygments_lexer": "ipython3",
   "version": "3.9.18"
  }
 },
 "nbformat": 4,
 "nbformat_minor": 5
}
